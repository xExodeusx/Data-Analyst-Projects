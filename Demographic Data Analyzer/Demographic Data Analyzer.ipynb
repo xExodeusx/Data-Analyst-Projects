{
 "cells": [
  {
   "cell_type": "markdown",
   "id": "f51c4b21",
   "metadata": {},
   "source": [
    "# Demographic Data Analyzer"
   ]
  },
  {
   "cell_type": "code",
   "execution_count": 2,
   "id": "a60dee88",
   "metadata": {},
   "outputs": [
    {
     "data": {
      "text/plain": [
       "'1.5.3'"
      ]
     },
     "execution_count": 2,
     "metadata": {},
     "output_type": "execute_result"
    }
   ],
   "source": [
    "import pandas as pd\n",
    "pd.__version__"
   ]
  },
  {
   "cell_type": "code",
   "execution_count": 3,
   "id": "4fa35358",
   "metadata": {},
   "outputs": [
    {
     "data": {
      "text/html": [
       "<div>\n",
       "<style scoped>\n",
       "    .dataframe tbody tr th:only-of-type {\n",
       "        vertical-align: middle;\n",
       "    }\n",
       "\n",
       "    .dataframe tbody tr th {\n",
       "        vertical-align: top;\n",
       "    }\n",
       "\n",
       "    .dataframe thead th {\n",
       "        text-align: right;\n",
       "    }\n",
       "</style>\n",
       "<table border=\"1\" class=\"dataframe\">\n",
       "  <thead>\n",
       "    <tr style=\"text-align: right;\">\n",
       "      <th></th>\n",
       "      <th>age</th>\n",
       "      <th>workclass</th>\n",
       "      <th>fnlwgt</th>\n",
       "      <th>education</th>\n",
       "      <th>education_num</th>\n",
       "      <th>marital_status</th>\n",
       "      <th>occupation</th>\n",
       "      <th>relationship</th>\n",
       "      <th>race</th>\n",
       "      <th>sex</th>\n",
       "      <th>capital_gain</th>\n",
       "      <th>capital_loss</th>\n",
       "      <th>hours_per_week</th>\n",
       "      <th>native_country</th>\n",
       "      <th>salary</th>\n",
       "    </tr>\n",
       "  </thead>\n",
       "  <tbody>\n",
       "    <tr>\n",
       "      <th>0</th>\n",
       "      <td>39</td>\n",
       "      <td>State-gov</td>\n",
       "      <td>77516</td>\n",
       "      <td>Bachelors</td>\n",
       "      <td>13</td>\n",
       "      <td>Never-married</td>\n",
       "      <td>Adm-clerical</td>\n",
       "      <td>Not-in-family</td>\n",
       "      <td>White</td>\n",
       "      <td>Male</td>\n",
       "      <td>2174</td>\n",
       "      <td>0</td>\n",
       "      <td>40</td>\n",
       "      <td>United-States</td>\n",
       "      <td>&lt;=50K</td>\n",
       "    </tr>\n",
       "    <tr>\n",
       "      <th>1</th>\n",
       "      <td>50</td>\n",
       "      <td>Self-emp-not-inc</td>\n",
       "      <td>83311</td>\n",
       "      <td>Bachelors</td>\n",
       "      <td>13</td>\n",
       "      <td>Married-civ-spouse</td>\n",
       "      <td>Exec-managerial</td>\n",
       "      <td>Husband</td>\n",
       "      <td>White</td>\n",
       "      <td>Male</td>\n",
       "      <td>0</td>\n",
       "      <td>0</td>\n",
       "      <td>13</td>\n",
       "      <td>United-States</td>\n",
       "      <td>&lt;=50K</td>\n",
       "    </tr>\n",
       "    <tr>\n",
       "      <th>2</th>\n",
       "      <td>38</td>\n",
       "      <td>Private</td>\n",
       "      <td>215646</td>\n",
       "      <td>HS-grad</td>\n",
       "      <td>9</td>\n",
       "      <td>Divorced</td>\n",
       "      <td>Handlers-cleaners</td>\n",
       "      <td>Not-in-family</td>\n",
       "      <td>White</td>\n",
       "      <td>Male</td>\n",
       "      <td>0</td>\n",
       "      <td>0</td>\n",
       "      <td>40</td>\n",
       "      <td>United-States</td>\n",
       "      <td>&lt;=50K</td>\n",
       "    </tr>\n",
       "    <tr>\n",
       "      <th>3</th>\n",
       "      <td>53</td>\n",
       "      <td>Private</td>\n",
       "      <td>234721</td>\n",
       "      <td>11th</td>\n",
       "      <td>7</td>\n",
       "      <td>Married-civ-spouse</td>\n",
       "      <td>Handlers-cleaners</td>\n",
       "      <td>Husband</td>\n",
       "      <td>Black</td>\n",
       "      <td>Male</td>\n",
       "      <td>0</td>\n",
       "      <td>0</td>\n",
       "      <td>40</td>\n",
       "      <td>United-States</td>\n",
       "      <td>&lt;=50K</td>\n",
       "    </tr>\n",
       "    <tr>\n",
       "      <th>4</th>\n",
       "      <td>28</td>\n",
       "      <td>Private</td>\n",
       "      <td>338409</td>\n",
       "      <td>Bachelors</td>\n",
       "      <td>13</td>\n",
       "      <td>Married-civ-spouse</td>\n",
       "      <td>Prof-specialty</td>\n",
       "      <td>Wife</td>\n",
       "      <td>Black</td>\n",
       "      <td>Female</td>\n",
       "      <td>0</td>\n",
       "      <td>0</td>\n",
       "      <td>40</td>\n",
       "      <td>Cuba</td>\n",
       "      <td>&lt;=50K</td>\n",
       "    </tr>\n",
       "  </tbody>\n",
       "</table>\n",
       "</div>"
      ],
      "text/plain": [
       "   age         workclass  fnlwgt  education  education_num  \\\n",
       "0   39         State-gov   77516  Bachelors             13   \n",
       "1   50  Self-emp-not-inc   83311  Bachelors             13   \n",
       "2   38           Private  215646    HS-grad              9   \n",
       "3   53           Private  234721       11th              7   \n",
       "4   28           Private  338409  Bachelors             13   \n",
       "\n",
       "       marital_status         occupation   relationship   race     sex  \\\n",
       "0       Never-married       Adm-clerical  Not-in-family  White    Male   \n",
       "1  Married-civ-spouse    Exec-managerial        Husband  White    Male   \n",
       "2            Divorced  Handlers-cleaners  Not-in-family  White    Male   \n",
       "3  Married-civ-spouse  Handlers-cleaners        Husband  Black    Male   \n",
       "4  Married-civ-spouse     Prof-specialty           Wife  Black  Female   \n",
       "\n",
       "   capital_gain  capital_loss  hours_per_week native_country salary  \n",
       "0          2174             0              40  United-States  <=50K  \n",
       "1             0             0              13  United-States  <=50K  \n",
       "2             0             0              40  United-States  <=50K  \n",
       "3             0             0              40  United-States  <=50K  \n",
       "4             0             0              40           Cuba  <=50K  "
      ]
     },
     "execution_count": 3,
     "metadata": {},
     "output_type": "execute_result"
    }
   ],
   "source": [
    "# Reading the database and seeing what it's like\n",
    "df = pd.read_excel(\".\\data.xlsx\")\n",
    "df.head()"
   ]
  },
  {
   "cell_type": "code",
   "execution_count": 4,
   "id": "d45f55fb",
   "metadata": {},
   "outputs": [
    {
     "data": {
      "text/plain": [
       "(32561, 15)"
      ]
     },
     "execution_count": 4,
     "metadata": {},
     "output_type": "execute_result"
    }
   ],
   "source": [
    "df.shape"
   ]
  },
  {
   "cell_type": "markdown",
   "id": "b0ab228d",
   "metadata": {},
   "source": [
    "How many people of each race are represented in this dataset?"
   ]
  },
  {
   "cell_type": "code",
   "execution_count": 5,
   "id": "e6419641",
   "metadata": {},
   "outputs": [
    {
     "name": "stdout",
     "output_type": "stream",
     "text": [
      "5 : ['White', 'Black', 'Asian-Pac-Islander', 'Amer-Indian-Eskimo', 'Other']\n"
     ]
    }
   ],
   "source": [
    "unique = pd.unique(df.race).tolist()\n",
    "nb_unique_race = len(unique)\n",
    "print(nb_unique_race, ':', unique)"
   ]
  },
  {
   "cell_type": "code",
   "execution_count": 6,
   "id": "60918e81",
   "metadata": {},
   "outputs": [
    {
     "data": {
      "text/plain": [
       "0                 White\n",
       "1                 Black\n",
       "2    Asian-Pac-Islander\n",
       "3    Amer-Indian-Eskimo\n",
       "4                 Other\n",
       "dtype: object"
      ]
     },
     "execution_count": 6,
     "metadata": {},
     "output_type": "execute_result"
    }
   ],
   "source": [
    "s = pd.Series(pd.unique(df.race).tolist())\n",
    "s"
   ]
  },
  {
   "cell_type": "markdown",
   "id": "f57ac220",
   "metadata": {},
   "source": [
    "What is the average age of men?"
   ]
  },
  {
   "cell_type": "code",
   "execution_count": 7,
   "id": "b41ee03a",
   "metadata": {},
   "outputs": [
    {
     "data": {
      "text/plain": [
       "39.43354749885268"
      ]
     },
     "execution_count": 7,
     "metadata": {},
     "output_type": "execute_result"
    }
   ],
   "source": [
    "avg_age_men = df[df.sex == 'Male'].age.mean()\n",
    "avg_age_men"
   ]
  },
  {
   "cell_type": "markdown",
   "id": "dd9f3f55",
   "metadata": {},
   "source": [
    "What is the percentage of people who have a Bachelor's degree?"
   ]
  },
  {
   "cell_type": "code",
   "execution_count": 8,
   "id": "cddfd68a",
   "metadata": {},
   "outputs": [
    {
     "data": {
      "text/plain": [
       "16.44605509658794"
      ]
     },
     "execution_count": 8,
     "metadata": {},
     "output_type": "execute_result"
    }
   ],
   "source": [
    "# Get the number of people having a Bachelor's\n",
    "num_bd = len(df[df.education == 'Bachelors'])\n",
    "# Get the total number of people\n",
    "total = df.shape[0]\n",
    "# Get the percentage\n",
    "per_bd = (num_bd / total) *100\n",
    "per_bd"
   ]
  },
  {
   "cell_type": "markdown",
   "id": "59bce985",
   "metadata": {},
   "source": [
    "What percentage of people with advanced education (Bachelors, Masters, or Doctorate) make more than 50K?"
   ]
  },
  {
   "cell_type": "code",
   "execution_count": 9,
   "id": "2aa37604",
   "metadata": {},
   "outputs": [
    {
     "data": {
      "text/plain": [
       "10.706059396210192"
      ]
     },
     "execution_count": 9,
     "metadata": {},
     "output_type": "execute_result"
    }
   ],
   "source": [
    "# Get number of people with advanced education that makes more than 50K\n",
    "num_adv_educ = len(df[((df.education == 'Bachelors') | (df.education == 'Masters') | (df.education == 'Doctorate')) & (df.salary == '>50K')])\n",
    "# Get the percentage\n",
    "per_adv_educ = (num_adv_educ / total) * 100\n",
    "per_adv_educ"
   ]
  },
  {
   "cell_type": "markdown",
   "id": "9e67d14c",
   "metadata": {},
   "source": [
    "What percentage of people without advanced education make more than 50K?"
   ]
  },
  {
   "cell_type": "code",
   "execution_count": 10,
   "id": "2236a528",
   "metadata": {},
   "outputs": [
    {
     "data": {
      "text/plain": [
       "13.374896348392248"
      ]
     },
     "execution_count": 10,
     "metadata": {},
     "output_type": "execute_result"
    }
   ],
   "source": [
    "# Get number of people without advanced education that makes more than 50K\n",
    "num_no_adv = len(df[(~((df.education == 'Bachelors') | (df.education == 'Masters') | (df.education == 'Doctorate')) & (df.salary == '>50K'))])\n",
    "# Get the percentage\n",
    "per_no_adv = (num_no_adv / total) * 100\n",
    "per_no_adv"
   ]
  },
  {
   "cell_type": "markdown",
   "id": "4239f29f",
   "metadata": {},
   "source": [
    "What is the minimum number of hours a person works per week?"
   ]
  },
  {
   "cell_type": "code",
   "execution_count": 11,
   "id": "6f3b0593",
   "metadata": {},
   "outputs": [
    {
     "data": {
      "text/plain": [
       "1"
      ]
     },
     "execution_count": 11,
     "metadata": {},
     "output_type": "execute_result"
    }
   ],
   "source": [
    "min_work = df.hours_per_week.min()\n",
    "min_work"
   ]
  },
  {
   "cell_type": "markdown",
   "id": "ce5144d3",
   "metadata": {},
   "source": [
    "What percentage of the people who work the minimum number of hours per week have a salary of more than 50K?"
   ]
  },
  {
   "cell_type": "code",
   "execution_count": 12,
   "id": "32f95bfd",
   "metadata": {},
   "outputs": [
    {
     "data": {
      "text/plain": [
       "0.006142317496391388"
      ]
     },
     "execution_count": 12,
     "metadata": {},
     "output_type": "execute_result"
    }
   ],
   "source": [
    "# Get number of people who work the minimum number and makes more than 50K\n",
    "num_min_work = len(df[(df.hours_per_week == min_work) & (df.salary == '>50K')])\n",
    "# Get percentage\n",
    "per_min_work = (num_min_work / total) * 100\n",
    "per_min_work"
   ]
  },
  {
   "cell_type": "markdown",
   "id": "ec152c4a",
   "metadata": {},
   "source": [
    "What country has the highest percentage of people that earn >50K and what is that percentage?"
   ]
  },
  {
   "cell_type": "code",
   "execution_count": 111,
   "id": "d4a503e8",
   "metadata": {},
   "outputs": [
    {
     "name": "stdout",
     "output_type": "stream",
     "text": [
      "The country with the highest percentage of people that earn > 50K is United-States with a total number of 7171 that constitutes 22.023279383311323 %\n"
     ]
    }
   ],
   "source": [
    "mask = (df.salary == '>50K')\n",
    "filtered = df[mask]\n",
    "grouped = filtered.groupby(['native_country'])[['native_country', 'salary']].count().sort_values(by = 'salary', ascending = False)\n",
    "country_name = grouped.iloc[0].name\n",
    "num_people = grouped.iloc[0][0]\n",
    "perc_people = (num_people / total ) * 100\n",
    "\n",
    "print('The country with the highest percentage of people that earn > 50K is', country_name, 'with a total number of', num_people, 'that constitutes', perc_people,'%')"
   ]
  },
  {
   "cell_type": "markdown",
   "id": "5885090c",
   "metadata": {},
   "source": [
    "Identify the most popular occupation for those who earn >50K in India."
   ]
  },
  {
   "cell_type": "code",
   "execution_count": 93,
   "id": "36f63e1e",
   "metadata": {},
   "outputs": [
    {
     "data": {
      "text/plain": [
       "{'Prof-specialty': 25,\n",
       " 'Exec-managerial': 8,\n",
       " 'Other-service': 2,\n",
       " 'Tech-support': 2,\n",
       " 'Transport-moving': 1,\n",
       " 'Sales': 1,\n",
       " 'Adm-clerical': 1}"
      ]
     },
     "execution_count": 93,
     "metadata": {},
     "output_type": "execute_result"
    }
   ],
   "source": [
    "# Mask that select only India and salary > 50K\n",
    "mask = (df.native_country == 'India') & (df.salary == '>50K')\n",
    "# Dictionarry with the occupation and their occurences of indian people that earn more than 50K\n",
    "dict = df[mask].occupation.value_counts().to_dict()\n",
    "dict"
   ]
  },
  {
   "cell_type": "code",
   "execution_count": 94,
   "id": "fd978237",
   "metadata": {},
   "outputs": [
    {
     "data": {
      "text/plain": [
       "'Prof-specialty'"
      ]
     },
     "execution_count": 94,
     "metadata": {},
     "output_type": "execute_result"
    }
   ],
   "source": [
    "# The most popular occupation\n",
    "max(dict, key=dict.get)"
   ]
  }
 ],
 "metadata": {
  "kernelspec": {
   "display_name": "Python 3 (ipykernel)",
   "language": "python",
   "name": "python3"
  },
  "language_info": {
   "codemirror_mode": {
    "name": "ipython",
    "version": 3
   },
   "file_extension": ".py",
   "mimetype": "text/x-python",
   "name": "python",
   "nbconvert_exporter": "python",
   "pygments_lexer": "ipython3",
   "version": "3.11.1"
  }
 },
 "nbformat": 4,
 "nbformat_minor": 5
}
